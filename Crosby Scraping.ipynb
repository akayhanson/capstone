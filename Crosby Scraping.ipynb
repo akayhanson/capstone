{
 "cells": [
  {
   "cell_type": "markdown",
   "metadata": {},
   "source": [
    "# Twitter Data Scraping without API Access\n",
    "Credit for process: Randy Daw-Ran Liou, Medium Post\n",
    "\n",
    "https://medium.com/@dawran6/twitter-scraper-tutorial-with-python-requests-beautifulsoup-and-selenium-part-1-8e76d62ffd68"
   ]
  },
  {
   "cell_type": "code",
   "execution_count": 1,
   "metadata": {},
   "outputs": [],
   "source": [
    "import requests\n",
    "from bs4 import BeautifulSoup"
   ]
  },
  {
   "cell_type": "markdown",
   "metadata": {},
   "source": [
    "### Search Params 1\n",
    "## #LetsGoPens\n",
    "\n",
    "![caption](images/sid_letsgopens.png)"
   ]
  },
  {
   "cell_type": "code",
   "execution_count": 7,
   "metadata": {},
   "outputs": [
    {
     "data": {
      "text/plain": [
       "'https://twitter.com/search?l=&q=Crosby%20sid%2C%20OR%20sidney%2C%20OR%20pens%2C%20OR%20penguins%2C%20OR%20pittsburgh%2C%20OR%20hockey%2C%20OR%20nhl%20%23letsgopens&src=typd'"
      ]
     },
     "execution_count": 7,
     "metadata": {},
     "output_type": "execute_result"
    }
   ],
   "source": [
    "url+query"
   ]
  },
  {
   "cell_type": "code",
   "execution_count": null,
   "metadata": {},
   "outputs": [],
   "source": [
    "# scraping tweets based on Advanced Search of\n",
    "\n",
    "url = u'https://twitter.com/search?l=&q='\n",
    "query = u'Crosby%20sid%2C%20OR%20sidney%2C%20OR%20pens%2C%20OR%20penguins%2C%20OR%20pittsburgh%2C%20OR%20hockey%2C%20OR%20nhl%20%23letsgopens&src=typd'\n",
    "r = requests.get(url+query)\n",
    "soup = BeautifulSoup(r.text, 'html.parser')"
   ]
  },
  {
   "cell_type": "code",
   "execution_count": 14,
   "metadata": {},
   "outputs": [
    {
     "data": {
      "text/plain": [
       "140"
      ]
     },
     "execution_count": 14,
     "metadata": {},
     "output_type": "execute_result"
    }
   ],
   "source": [
    "str(soup).count('Crosby')"
   ]
  },
  {
   "cell_type": "code",
   "execution_count": 11,
   "metadata": {},
   "outputs": [
    {
     "data": {
      "text/plain": [
       "'Crosby sid, OR sidney, OR pens, OR penguins, OR pittsbur'"
      ]
     },
     "execution_count": 11,
     "metadata": {},
     "output_type": "execute_result"
    }
   ],
   "source": [
    "str(soup)[4444:4500]"
   ]
  },
  {
   "cell_type": "code",
   "execution_count": 15,
   "metadata": {},
   "outputs": [
    {
     "name": "stdout",
     "output_type": "stream",
     "text": [
      "[\"We've detected that JavaScript is disabled in your browser. Would you like to proceed to legacy Twitter?\", 'Yes', 'Official Twitter account for Pittsburgh, Pennsylvania. Founded - 1758, Incorporated - 1816. Account is not monitored 24/7. Contact @Pgh311 for Service Requests.', '    Pittsburgh, PA\\n •   \\n    pittsburghpa.gov\\n  \\n', '', '\\n        You can add location information to your Tweets, such as your city or precise location, from the web and via third-party applications. You always have the option to delete your Tweet location history.\\n        Learn more\\n', \"Here's the URL for this Tweet. Copy it to easily share with friends.\", 'Add this Tweet to your website by copying the code below. Learn more', 'Add this video to your website by copying the code below. Learn more', 'Hmm, there was a problem reaching the server. Try again?', 'By embedding Twitter content in your website or app, you are agreeing to the Twitter Developer Agreement and Developer Policy.', 'This timeline is where you’ll spend most of your time, getting instant updates about what matters to you.', '\\n    Hover over the profile pic and click the Following button to unfollow any account.\\n  ', '\\n    When you see a Tweet you love, tap the heart — it lets  the person who wrote it know you shared the love.\\n  ', '\\n    The fastest way to share someone else’s Tweet with your followers is with a Retweet. Tap the icon to send it instantly.\\n  ', '\\n    Add your thoughts about any Tweet with a Reply. Find a topic you’re passionate about, and jump right in.\\n  ', '\\n    Get instant insight into what people are talking about now.\\n  ', '\\n    Follow more accounts to get instant updates about topics you care about.\\n  ', '\\n    See the latest conversations about any topic instantly.\\n  ', '\\n    Catch up instantly on the best stories happening as they unfold.\\n  ']\n"
     ]
    }
   ],
   "source": [
    "crosby = [p.text for p in soup.findAll('p', class_='tweet-text')]\n",
    "\n",
    "print(crosby)"
   ]
  },
  {
   "cell_type": "code",
   "execution_count": 20,
   "metadata": {},
   "outputs": [],
   "source": [
    "with open('C:/Users/Amanda/Desktop/Crosby sid, OR sidney, OR pens, OR penguins, OR pittsburgh, OR hockey, OR nhl #letsgopens - Twitter Search.html', encoding='utf-8') as f:\n",
    "    content = f.read()"
   ]
  },
  {
   "cell_type": "code",
   "execution_count": 22,
   "metadata": {},
   "outputs": [],
   "source": [
    "soup = BeautifulSoup(content, 'html.parser')"
   ]
  },
  {
   "cell_type": "code",
   "execution_count": 23,
   "metadata": {},
   "outputs": [
    {
     "data": {
      "text/plain": [
       "[<p>\n",
       "     Keyboard shortcuts are available for common actions and site navigation.\n",
       "     <button id=\"show-shortcuts-btn\" tabindex=\"-1\" type=\"button\">View Keyboard Shortcuts</button>\n",
       " <button id=\"dismiss-shortcuts-btn\" tabindex=\"-1\" type=\"button\">Dismiss this message</button>\n",
       " </p>,\n",
       " <p>We've detected that JavaScript is disabled in your browser. Would you like to proceed to legacy Twitter?</p>,\n",
       " <p class=\"NoScriptForm-buttonContainer\"><button class=\"EdgeButton EdgeButton--primary\" type=\"submit\">Yes</button></p>,\n",
       " <p class=\"name\"><span class=\"username u-dir u-textTruncate\" dir=\"ltr\">@<b>AKayyH</b></span></p>,\n",
       " <p class=\"TweetTextSize js-tweet-text tweet-text\" data-aria-label-part=\"0\" lang=\"en\"><a class=\"twitter-atreply pretty-link js-nav\" data-mentioned-user-id=\"15020865\" dir=\"ltr\" href=\"https://twitter.com/penguins\"><s>@</s><b><strong>penguins</strong></b></a> <strong>Sidney</strong> <strong>Crosby</strong> (864 GP) is 52 games away from surpassing Mario Lemieux's record of 915 games played with the franchise. Evgeni Malkin (784 GP) should also pass Jaromir Jagr's total (806 GP) and move into 3rd place. \n",
       " \n",
       " 1) <strong>Crosby</strong>\n",
       " 2) Lemieux\n",
       " 3) Malkin\n",
       " 4) Jagr\n",
       " \n",
       " <a class=\"twitter-hashtag pretty-link js-nav\" data-query-source=\"hashtag_click\" dir=\"ltr\" href=\"https://twitter.com/hashtag/LetsGoPens?src=hash\"><s>#</s><b><strong>LetsGoPens</strong></b></a></p>,\n",
       " <p class=\"TweetTextSize js-tweet-text tweet-text\" data-aria-label-part=\"0\" lang=\"en\">SURPRISE! <strong>Sidney</strong> <strong>Crosby</strong> personally delivered <a class=\"twitter-atreply pretty-link js-nav\" data-mentioned-user-id=\"15020865\" dir=\"ltr\" href=\"https://twitter.com/penguins\"><s>@</s><b><strong>penguins</strong></b></a> tickets to these lucky fans, and even played a little <strong>hockey</strong> in the driveway. <a class=\"twitter-hashtag pretty-link js-nav\" data-query-source=\"hashtag_click\" dir=\"ltr\" href=\"https://twitter.com/hashtag/LetsGoPens?src=hash\"><s>#</s><b><strong>LetsGoPens</strong></b></a> <a class=\"twitter-timeline-link u-hidden\" data-pre-embedded=\"true\" dir=\"ltr\" href=\"https://t.co/Qqurq1IMU6\">pic.twitter.com/Qqurq1IMU6</a></p>,\n",
       " <p class=\"TweetTextSize js-tweet-text tweet-text\" data-aria-label-part=\"0\" lang=\"en\">Pierre McGuire talking about <strong>Crosby</strong> all <a class=\"twitter-hashtag pretty-link js-nav\" data-query-source=\"hashtag_click\" dir=\"ltr\" href=\"https://twitter.com/hashtag/Pens?src=hash\"><s>#</s><b><strong>Pens</strong></b></a> <a class=\"twitter-hashtag pretty-link js-nav\" data-query-source=\"hashtag_click\" dir=\"ltr\" href=\"https://twitter.com/hashtag/LetsGoPens?src=hash\"><s>#</s><b><strong>LetsGoPens</strong></b></a> <span class=\"twitter-hashflag-container\"><a class=\"twitter-hashtag pretty-link js-nav\" data-query-source=\"hashtag_click\" dir=\"ltr\" href=\"https://twitter.com/hashtag/ALLCAPS?src=hash\"><s>#</s><b>ALLCAPS</b></a><a dir=\"ltr\" href=\"https://twitter.com/hashtag/ALLCAPS?src=hash\"><img alt=\"\" class=\"twitter-hashflag\" draggable=\"false\" src=\"./Crosby sid, OR sidney, OR pens, OR penguins, OR pittsburgh, OR hockey, OR nhl #letsgopens - Twitter Search_files/NHL_2017_2018_Caps_v3.png\"/></a></span><a class=\"twitter-timeline-link u-hidden\" data-pre-embedded=\"true\" dir=\"ltr\" href=\"https://t.co/9WuRbe700E\">pic.twitter.com/9WuRbe700E</a></p>,\n",
       " <p class=\"social-proof\">\n",
       " <span class=\"Icon Icon--small Icon--retweeted\"></span>\n",
       " <a class=\"pretty-link user-profile-link js-user-profile-link\" data-user-id=\"768616164\" href=\"https://twitter.com/PenguinsJesus\" rel=\"noopener\">Penguins Jesus</a> Retweeted\n",
       "         \n",
       " \n",
       " \n",
       " \n",
       "   </p>,\n",
       " <p class=\"TweetTextSize js-tweet-text tweet-text\" data-aria-label-part=\"0\" lang=\"en\"><strong>Sidney</strong> <strong>Crosby</strong> Living up to Expectations!!!! <a class=\"twitter-hashtag pretty-link js-nav\" data-query-source=\"hashtag_click\" dir=\"ltr\" href=\"https://twitter.com/hashtag/LetsGoPens?src=hash\"><s>#</s><b><strong>LetsGoPens</strong></b></a> <a class=\"twitter-timeline-link u-hidden\" data-pre-embedded=\"true\" dir=\"ltr\" href=\"https://t.co/qNwzyO0cm9\">pic.twitter.com/qNwzyO0cm9</a></p>,\n",
       " <p class=\"TweetTextSize js-tweet-text tweet-text\" data-aria-label-part=\"0\" lang=\"en\">TOPIC TONIGHT: Has <strong>Sidney</strong> <strong>Crosby</strong> closed the gap between him and <a class=\"twitter-atreply pretty-link js-nav\" data-mentioned-user-id=\"15020865\" dir=\"ltr\" href=\"https://twitter.com/penguins\"><s>@</s><b><strong>Penguins</strong></b></a> legend Mario Lemieux? <a class=\"twitter-hashtag pretty-link js-nav\" data-query-source=\"hashtag_click\" dir=\"ltr\" href=\"https://twitter.com/hashtag/LetsGoPens?src=hash\"><s>#</s><b><strong>LetsGoPens</strong></b></a> <a class=\"twitter-hashtag pretty-link js-nav\" data-query-source=\"hashtag_click\" dir=\"ltr\" href=\"https://twitter.com/hashtag/Penguins?src=hash\"><s>#</s><b><strong>Penguins</strong></b></a> <a class=\"twitter-hashtag pretty-link js-nav\" data-query-source=\"hashtag_click\" dir=\"ltr\" href=\"https://twitter.com/hashtag/FinalWord?src=hash\"><s>#</s><b>FinalWord</b></a></p>,\n",
       " <p class=\"ProfileCard-bio u-dir\" data-aria-label-part=\"\" dir=\"ltr\">Official Twitter account for Pittsburgh, Pennsylvania. Founded - 1758, Incorporated - 1816. Account is not monitored 24/7. Contact <a class=\"tweet-url twitter-atreply pretty-link\" data-mentioned-user-id=\"0\" dir=\"ltr\" href=\"https://twitter.com/Pgh311\" rel=\"nofollow\"><s>@</s><b>Pgh311</b></a> for Service Requests.</p>,\n",
       " <p class=\"ProfileCard-locationAndUrl\">    Pittsburgh, PA\n",
       "  •   <a class=\"u-textUserColor\" href=\"https://t.co/qv1YjitYs2\" rel=\"me nofollow noopener\" target=\"_blank\" title=\"http://www.pittsburghpa.gov\">\n",
       "     pittsburghpa.gov\n",
       "   </a>\n",
       " </p>,\n",
       " <p class=\"TweetTextSize js-tweet-text tweet-text\" data-aria-label-part=\"0\" lang=\"en\">Heads up for my <a class=\"twitter-atreply pretty-link js-nav\" data-mentioned-user-id=\"15020865\" dir=\"ltr\" href=\"https://twitter.com/penguins\"><s>@</s><b><strong>Penguins</strong></b></a> crowd. You may wanna find yourself in a Hallmark store on October, 6th. The <strong>Sidney</strong> <strong>Crosby</strong> <a class=\"twitter-atreply pretty-link js-nav\" data-mentioned-user-id=\"978650746173444096\" dir=\"ltr\" href=\"https://twitter.com/StanleyCup\"><s>@</s><b>StanleyCup</b></a> ornament will be in-store and on shelves. Merry Christmas! <a class=\"twitter-hashtag pretty-link js-nav\" data-query-source=\"hashtag_click\" dir=\"ltr\" href=\"https://twitter.com/hashtag/LetsGoPens?src=hash\"><s>#</s><b><strong>LetsGoPens</strong></b></a> <a class=\"twitter-timeline-link u-hidden\" data-pre-embedded=\"true\" dir=\"ltr\" href=\"https://t.co/JospP5EU4b\">pic.twitter.com/JospP5EU4b</a></p>,\n",
       " <p class=\"TweetTextSize js-tweet-text tweet-text\" data-aria-label-part=\"0\" lang=\"en\"><a class=\"twitter-hashtag pretty-link js-nav\" data-query-source=\"hashtag_click\" dir=\"ltr\" href=\"https://twitter.com/hashtag/Penguins?src=hash\"><s>#</s><b><strong>Penguins</strong></b></a> biggest asset this season is the massive depth at center (even more than usual) <strong>Crosby</strong>, Malkin, Sheahan, Brassard, Guentzel (if needed), Cullen, Grant. Ability of 7,19,59,15 to play wing will also be major keys <a class=\"twitter-hashtag pretty-link js-nav\" data-query-source=\"hashtag_click\" dir=\"ltr\" href=\"https://twitter.com/hashtag/LetsGoPens?src=hash\"><s>#</s><b><strong>LetsGoPens</strong></b></a></p>,\n",
       " <p class=\"TweetTextSize js-tweet-text tweet-text\" data-aria-label-part=\"0\" lang=\"en\">Go time for the 3rd period!\n",
       " \n",
       " The <strong>Penguins</strong> lead 4-1 with 20 minutes left. <strong>Crosby</strong> and Letang each have two points, thus far.\n",
       " \n",
       " <a class=\"twitter-hashtag pretty-link js-nav\" data-query-source=\"hashtag_click\" dir=\"ltr\" href=\"https://twitter.com/hashtag/LetsGoPens?src=hash\"><s>#</s><b><strong>LetsGoPens</strong></b></a> <a class=\"twitter-timeline-link u-hidden\" data-pre-embedded=\"true\" dir=\"ltr\" href=\"https://t.co/eWfBbT8CnO\">pic.twitter.com/eWfBbT8CnO</a></p>,\n",
       " <p class=\"TweetTextSize js-tweet-text tweet-text\" data-aria-label-part=\"0\" lang=\"en\">I'm still weirdly proud that someone who played for Cornell in my little hometown of Ithaca is now playing with <strong>Sidney</strong> freakin' <strong>Crosby</strong> <a class=\"twitter-hashtag pretty-link js-nav\" data-query-source=\"hashtag_click\" dir=\"ltr\" href=\"https://twitter.com/hashtag/LetsGoPens?src=hash\"><s>#</s><b><strong>LetsGoPens</strong></b></a></p>,\n",
       " <p class=\"TweetTextSize js-tweet-text tweet-text\" data-aria-label-part=\"0\" lang=\"en\">The seem-less chemistry between <strong>Crosby</strong> and Guentzel already looks to be in midsession form <a class=\"twitter-hashtag pretty-link js-nav\" data-query-source=\"hashtag_click\" dir=\"ltr\" href=\"https://twitter.com/hashtag/LetsGoPens?src=hash\"><s>#</s><b><strong>LetsGoPens</strong></b></a> <a class=\"twitter-hashtag pretty-link js-nav\" data-query-source=\"hashtag_click\" dir=\"ltr\" href=\"https://twitter.com/hashtag/Penguins?src=hash\"><s>#</s><b><strong>Penguins</strong></b></a></p>,\n",
       " <p class=\"TweetTextSize js-tweet-text tweet-text\" data-aria-label-part=\"0\" lang=\"en\">So glad and thankful to see another <strong>Sidney</strong> <strong>Crosby</strong> season.... <a class=\"twitter-hashtag pretty-link js-nav\" data-query-source=\"hashtag_click\" dir=\"ltr\" href=\"https://twitter.com/hashtag/LetsGoPens?src=hash\"><s>#</s><b><strong>LetsGoPens</strong></b></a></p>,\n",
       " <p class=\"TweetTextSize js-tweet-text tweet-text\" data-aria-label-part=\"0\" lang=\"en\"><strong>Sidney</strong> <strong>Crosby</strong> goes above and beyond for <a class=\"twitter-atreply pretty-link js-nav\" data-mentioned-user-id=\"15020865\" dir=\"ltr\" href=\"https://twitter.com/penguins\"><s>@</s><b><strong>Penguins</strong></b></a> teammates <a class=\"twitter-timeline-link\" data-expanded-url=\"https://www.nhl.com/penguins/news/welcome-to-the-team/c-300270478?tcid=tw_news_content_id\" dir=\"ltr\" href=\"https://t.co/DAYVBMu7I4\" rel=\"nofollow noopener\" target=\"_blank\" title=\"https://www.nhl.com/penguins/news/welcome-to-the-team/c-300270478?tcid=tw_news_content_id\"><span class=\"tco-ellipsis\"></span><span class=\"invisible\">https://www.</span><span class=\"js-display-url\">nhl.com/penguins/news/</span><span class=\"invisible\">welcome-to-the-team/c-300270478?tcid=tw_news_content_id</span><span class=\"tco-ellipsis\"><span class=\"invisible\"> </span>…</span></a> So proud he plays for us. <a class=\"twitter-hashtag pretty-link js-nav\" data-query-source=\"hashtag_click\" dir=\"ltr\" href=\"https://twitter.com/hashtag/LetsGoPens?src=hash\"><s>#</s><b><strong>LetsGoPens</strong></b></a>!</p>,\n",
       " <p aria-hidden=\"true\" class=\"u-hiddenVisually\" data-aria-label-part=\"1\">Jamie Hale Retweeted Pittsburgh Penguins</p>,\n",
       " <p class=\"TweetTextSize js-tweet-text tweet-text\" data-aria-label-part=\"4\" lang=\"en\">And people wonder why <strong>Pittsburgh</strong> is a <strong>hockey</strong> town now. A star like <strong>Crosby</strong> being the class of the league, while us  <a class=\"twitter-hashtag pretty-link js-nav\" data-query-source=\"hashtag_click\" dir=\"ltr\" href=\"https://twitter.com/hashtag/Steelers?src=hash\"><s>#</s><b>Steelers</b></a> fans watch Bell cry and a hand full of others be all about themselves. <a class=\"twitter-hashtag pretty-link js-nav\" data-query-source=\"hashtag_click\" dir=\"ltr\" href=\"https://twitter.com/hashtag/LetsgoPens?src=hash\"><s>#</s><b><strong>LetsgoPens</strong></b></a> <a class=\"twitter-timeline-link u-hidden\" data-expanded-url=\"https://twitter.com/penguins/status/1042900574755332097\" dir=\"ltr\" href=\"https://t.co/7rrlQ5QxsK\" rel=\"nofollow noopener\" target=\"_blank\" title=\"https://twitter.com/penguins/status/1042900574755332097\"><span class=\"tco-ellipsis\"></span><span class=\"invisible\">https://</span><span class=\"js-display-url\">twitter.com/penguins/statu</span><span class=\"invisible\">s/1042900574755332097</span><span class=\"tco-ellipsis\"><span class=\"invisible\"> </span>…</span></a></p>,\n",
       " <p aria-hidden=\"true\" class=\"u-hiddenVisually\" data-aria-label-part=\"3\">Jamie Hale added,</p>,\n",
       " <p class=\"TweetTextSize js-tweet-text tweet-text\" data-aria-label-part=\"0\" lang=\"en\">Cracks me up that fans from other <a class=\"twitter-atreply pretty-link js-nav\" data-mentioned-user-id=\"50004938\" dir=\"ltr\" href=\"https://twitter.com/NHL\"><s>@</s><b><strong>NHL</strong></b></a> cities claim they hate <strong>Crosby</strong>, but they would die to have him play for their team. Here’s to us, <a class=\"twitter-hashtag pretty-link js-nav\" data-query-source=\"hashtag_click\" dir=\"ltr\" href=\"https://twitter.com/hashtag/Pittsburgh?src=hash\"><s>#</s><b><strong>Pittsburgh</strong></b></a>! <a class=\"twitter-hashtag pretty-link js-nav\" data-query-source=\"hashtag_click\" dir=\"ltr\" href=\"https://twitter.com/hashtag/LetsGoPens?src=hash\"><s>#</s><b><strong>LetsGoPens</strong></b></a> <a class=\"twitter-hashtag pretty-link js-nav\" data-query-source=\"hashtag_click\" dir=\"ltr\" href=\"https://twitter.com/hashtag/WeWantTheCup?src=hash\"><s>#</s><b>WeWantTheCup</b></a>...<a class=\"twitter-hashtag pretty-link js-nav\" data-query-source=\"hashtag_click\" dir=\"ltr\" href=\"https://twitter.com/hashtag/Again?src=hash\"><s>#</s><b>Again</b></a> <img alt=\"🖤\" aria-label=\"Emoji: Black heart\" class=\"Emoji Emoji--forText\" draggable=\"false\" src=\"./Crosby sid, OR sidney, OR pens, OR penguins, OR pittsburgh, OR hockey, OR nhl #letsgopens - Twitter Search_files/1f5a4.png\" title=\"Black heart\"/><img alt=\"💛\" aria-label=\"Emoji: Yellow heart\" class=\"Emoji Emoji--forText\" draggable=\"false\" src=\"./Crosby sid, OR sidney, OR pens, OR penguins, OR pittsburgh, OR hockey, OR nhl #letsgopens - Twitter Search_files/1f49b.png\" title=\"Yellow heart\"/><img alt=\"🐧\" aria-label=\"Emoji: Penguin\" class=\"Emoji Emoji--forText\" draggable=\"false\" src=\"./Crosby sid, OR sidney, OR pens, OR penguins, OR pittsburgh, OR hockey, OR nhl #letsgopens - Twitter Search_files/1f427.png\" title=\"Penguin\"/><img alt=\"🏒\" aria-label=\"Emoji: Ice hockey stick and puck\" class=\"Emoji Emoji--forText\" draggable=\"false\" src=\"./Crosby sid, OR sidney, OR pens, OR penguins, OR pittsburgh, OR hockey, OR nhl #letsgopens - Twitter Search_files/1f3d2.png\" title=\"Ice hockey stick and puck\"/><img alt=\"🥅\" aria-label=\"Emoji: Goal net\" class=\"Emoji Emoji--forText\" draggable=\"false\" src=\"./Crosby sid, OR sidney, OR pens, OR penguins, OR pittsburgh, OR hockey, OR nhl #letsgopens - Twitter Search_files/1f945.png\" title=\"Goal net\"/></p>,\n",
       " <p class=\"TweetTextSize js-tweet-text tweet-text\" data-aria-label-part=\"0\" lang=\"en\"><a class=\"twitter-hashtag pretty-link js-nav\" data-query-source=\"hashtag_click\" dir=\"ltr\" href=\"https://twitter.com/hashtag/MarioMosaic?src=hash\"><s>#</s><b>MarioMosaic</b></a>  Meet my grand-doggie, <strong>Sidney</strong> <strong>Crosby</strong>, (really!) -- a Norwegian Elkhound, who loves the <strong>Pens</strong>, snow and ice!  <a class=\"twitter-hashtag pretty-link js-nav\" data-query-source=\"hashtag_click\" dir=\"ltr\" href=\"https://twitter.com/hashtag/letsgopens?src=hash\"><s>#</s><b><strong>letsgopens</strong></b></a> <a class=\"twitter-atreply pretty-link js-nav\" data-mentioned-user-id=\"232269679\" dir=\"ltr\" href=\"https://twitter.com/apghspano\"><s>@</s><b>apghspano</b></a><a class=\"twitter-timeline-link u-hidden\" data-pre-embedded=\"true\" dir=\"ltr\" href=\"https://t.co/fjGpwJl1MQ\">pic.twitter.com/fjGpwJl1MQ</a></p>,\n",
       " <p class=\"TweetTextSize js-tweet-text tweet-text\" data-aria-label-part=\"0\" lang=\"en\">Wishing <a class=\"twitter-hashtag pretty-link js-nav\" data-query-source=\"hashtag_click\" dir=\"ltr\" href=\"https://twitter.com/hashtag/PENS?src=hash\"><s>#</s><b><strong>PENS</strong></b></a> Captain, 3X Stanley Cup Champion, <strong>Sidney</strong> Patrick <strong>Crosby</strong> a very Happy 31st BDay!\n",
       " <a class=\"twitter-hashtag pretty-link js-nav\" data-query-source=\"hashtag_click\" dir=\"ltr\" href=\"https://twitter.com/hashtag/LetsGoPens?src=hash\"><s>#</s><b><strong>LetsGoPens</strong></b></a> <a class=\"twitter-timeline-link u-hidden\" data-pre-embedded=\"true\" dir=\"ltr\" href=\"https://t.co/qUaIydt3SB\">pic.twitter.com/qUaIydt3SB</a></p>,\n",
       " <p class=\"TweetTextSize js-tweet-text tweet-text\" data-aria-label-part=\"0\" lang=\"en\">ON THIS DATE IN 2005:  Your <a class=\"twitter-hashtag pretty-link js-nav\" data-query-source=\"hashtag_click\" dir=\"ltr\" href=\"https://twitter.com/hashtag/Pittsburgh?src=hash\"><s>#</s><b><strong>Pittsburgh</strong></b></a> <a class=\"twitter-atreply pretty-link js-nav\" data-mentioned-user-id=\"15020865\" dir=\"ltr\" href=\"https://twitter.com/penguins\"><s>@</s><b><strong>penguins</strong></b></a> selected <strong>Sidney</strong> <strong>Crosby</strong> with the No. 1 pick in the <strong>NHL</strong> Draft.  <a class=\"twitter-hashtag pretty-link js-nav\" data-query-source=\"hashtag_click\" dir=\"ltr\" href=\"https://twitter.com/hashtag/LetsGoPens?src=hash\"><s>#</s><b><strong>LetsGoPens</strong></b></a> \n",
       " \n",
       " (Photo Credit: <a class=\"twitter-atreply pretty-link js-nav\" data-mentioned-user-id=\"1360098198\" dir=\"ltr\" href=\"https://twitter.com/PR_NHL\"><s>@</s><b>PR_<strong>NHL</strong></b></a>) <a class=\"twitter-timeline-link u-hidden\" data-pre-embedded=\"true\" dir=\"ltr\" href=\"https://t.co/e8jqTpbZxR\">pic.twitter.com/e8jqTpbZxR</a></p>,\n",
       " <p class=\"TweetTextSize js-tweet-text tweet-text\" data-aria-label-part=\"0\" lang=\"en\">WHAT A SETUP AND WHAT A GOAL!!! <strong>SIDNEY</strong> <strong>CROSBY</strong> MAKES IT 3-2 <a class=\"twitter-hashtag pretty-link js-nav\" data-query-source=\"hashtag_click\" dir=\"ltr\" href=\"https://twitter.com/hashtag/LetsGoPens?src=hash\"><s>#</s><b><strong>LetsGoPens</strong></b></a> <a class=\"twitter-hashtag pretty-link js-nav\" data-query-source=\"hashtag_click\" dir=\"ltr\" href=\"https://twitter.com/hashtag/StanleyCup?src=hash\"><s>#</s><b>StanleyCup</b></a> <a class=\"twitter-hashtag pretty-link js-nav\" data-query-source=\"hashtag_click\" dir=\"ltr\" href=\"https://twitter.com/hashtag/3elieve?src=hash\"><s>#</s><b>3elieve</b></a><a class=\"twitter-timeline-link u-hidden\" data-pre-embedded=\"true\" dir=\"ltr\" href=\"https://t.co/MbDTFU3QyC\">pic.twitter.com/MbDTFU3QyC</a></p>,\n",
       " <p class=\"TweetTextSize js-tweet-text tweet-text\" data-aria-label-part=\"0\" lang=\"en\">It's power-play time for the <strong>Penguins</strong>. Oshie to the box for interfering with <strong>Crosby</strong>. 14:22 left in the game. Now is the time to strike. <a class=\"twitter-hashtag pretty-link js-nav\" data-query-source=\"hashtag_click\" dir=\"ltr\" href=\"https://twitter.com/hashtag/LetsGoPens?src=hash\"><s>#</s><b><strong>LetsGoPens</strong></b></a></p>,\n",
       " <p class=\"TweetTextSize js-tweet-text tweet-text\" data-aria-label-part=\"0\" lang=\"en\">GOAAAALL!!!   <strong>Sidney</strong> <strong>Crosby</strong>!!!!! \n",
       " O CAPTAIN MY CAPTAIN \n",
       " <a class=\"twitter-hashtag pretty-link js-nav\" data-query-source=\"hashtag_click\" dir=\"ltr\" href=\"https://twitter.com/hashtag/LetsGoPens?src=hash\"><s>#</s><b><strong>LetsGoPens</strong></b></a> <a class=\"twitter-hashtag pretty-link js-nav\" data-query-source=\"hashtag_click\" dir=\"ltr\" href=\"https://twitter.com/hashtag/Pens?src=hash\"><s>#</s><b><strong>Pens</strong></b></a> <a class=\"twitter-timeline-link u-hidden\" data-pre-embedded=\"true\" dir=\"ltr\" href=\"https://t.co/8KiUqr224w\">pic.twitter.com/8KiUqr224w</a></p>,\n",
       " <p class=\"empty-text\">\n",
       " \n",
       "           No results.\n",
       "       </p>,\n",
       " <p><button class=\"btn-link back-to-top hidden\" style=\"display: inline-block;\" type=\"button\">Back to top ↑</button></p>,\n",
       " <p>\n",
       "       Twitter may be over capacity or experiencing a momentary hiccup. <a class=\"try-again-after-whale\" href=\"https://twitter.com/search?l=&amp;q=Crosby%20sid%2C%20OR%20sidney%2C%20OR%20pens%2C%20OR%20penguins%2C%20OR%20pittsburgh%2C%20OR%20hockey%2C%20OR%20nhl%20%23letsgopens&amp;src=typdhttps:/twitter.com/search?l=&amp;q=Crosby%20sid%2C%20OR%20sidney%2C%20OR%20pens%2C%20OR%20penguins%2C%20OR%20pittsburgh%2C%20OR%20hockey%2C%20OR%20nhl%20%23letsgopens&amp;src=typd#\" role=\"button\">Try again</a> or visit <a href=\"http://status.twitter.com/\" rel=\"noopener\" target=\"_blank\">Twitter Status</a> for more information.\n",
       "     </p>,\n",
       " <p>Trends offer a unique way to get closer to what you care about. They are tailored for you based on your location and who you follow.</p>,\n",
       " <p class=\"placeholder-actions\">\n",
       " <button class=\"EdgeButton EdgeButton--secondary customize-by-location\" type=\"button\">Change</button><button class=\"EdgeButton EdgeButton--primary done\" type=\"button\">Keep tailored trends</button>\n",
       " </p>,\n",
       " <p></p>,\n",
       " <p>Direct Messages are private conversations between you and other people on Twitter. Share Tweets, media, and more!</p>,\n",
       " <p>This is where you'll see messages from people you don't follow. They won't know you've seen them until you accept it.</p>,\n",
       " <p class=\"DMConversationSettings-notificationsFooter t1-infotext\"></p>,\n",
       " <p class=\"DMConversationSettings-mentionsFooter t1-infotext\">Disable notifications when people mention you in this group.</p>,\n",
       " <p class=\"DMConversationSettings-subscriptionsFooter t1-infotext\"></p>,\n",
       " <p class=\"modal-body-text\">\n",
       " </p>,\n",
       " <p></p>,\n",
       " <p class=\"copy-link-to-tweet-instructions\">Here's the URL for this Tweet. Copy it to easily share with friends.</p>,\n",
       " <p class=\"embed-tweet-instructions\">Add this Tweet to your website by copying the code below. <a href=\"https://dev.twitter.com/web/embedded-tweets\" rel=\"noopener\" target=\"_blank\">Learn more</a></p>,\n",
       " <p class=\"embed-video-instructions\">Add this video to your website by copying the code below. <a href=\"https://dev.twitter.com/web/embedded-tweets\" rel=\"noopener\" target=\"_blank\">Learn more</a></p>,\n",
       " <p class=\"embed-overlay-content\">Hmm, there was a problem reaching the server. <button class=\"btn-link retry-embed\" type=\"button\">Try again?</button></p>,\n",
       " <p class=\"embed-tweet-description\">By embedding Twitter content in your website or app, you are agreeing to the Twitter <a href=\"https://dev.twitter.com/overview/terms/agreement\" rel=\"noopener\">Developer Agreement</a> and <a href=\"https://dev.twitter.com/overview/terms/policy\" rel=\"noopener\">Developer Policy</a>.</p>,\n",
       " <p class=\"block-user-description\"><span class=\"block-user-text\"></span> <a href=\"https://support.twitter.com/articles/117063-blocking-people-on-twitter\" rel=\"noopener\" target=\"_blank\">Learn more</a> about what it means to block an account.</p>,\n",
       " <p class=\"export-header-text\">We will create a .csv file and save it on your computer. You may share the file, and others will be able to import this list of blocked accounts.</p>,\n",
       " <p class=\"empty-text\">\n",
       " </p>,\n",
       " <p><button class=\"btn-link back-to-top hidden\" type=\"button\">Back to top ↑</button></p>,\n",
       " <p class=\"import-header-text\"></p>,\n",
       " <p id=\"gdpr-age-gate-body\"></p>,\n",
       " <p>These changes mean you'll need to take a moment to review your current settings.</p>,\n",
       " <p>Enter your phone number in the box below, and we'll send you a confirmation code.</p>,\n",
       " <p>We’ve texted a code to +<span id=\"phone_number_to_verify\"></span>. Enter the code below to confirm your identity and unlock your account.</p>,\n",
       " <p><button class=\"btn-link\" id=\"resend_code\" type=\"button\">Resend code</button></p>,\n",
       " <p class=\"UIWalkthrough-message\">This timeline is where you’ll spend most of your time, getting instant updates about what matters to you.</p>,\n",
       " <p class=\"UIWalkthrough-message\">\n",
       "     Hover over the profile pic and click the Following button to unfollow any account.\n",
       "   </p>,\n",
       " <p class=\"UIWalkthrough-message\">\n",
       "     When you see a Tweet you love, tap the heart — it lets  the person who wrote it know you shared the love.\n",
       "   </p>,\n",
       " <p class=\"UIWalkthrough-message\">\n",
       "     The fastest way to share someone else’s Tweet with your followers is with a Retweet. Tap the icon to send it instantly.\n",
       "   </p>,\n",
       " <p class=\"UIWalkthrough-message\">\n",
       "     Add your thoughts about any Tweet with a Reply. Find a topic you’re passionate about, and jump right in.\n",
       "   </p>,\n",
       " <p class=\"UIWalkthrough-message\">\n",
       "     Get instant insight into what people are talking about now.\n",
       "   </p>,\n",
       " <p class=\"UIWalkthrough-message\">\n",
       "     Follow more accounts to get instant updates about topics you care about.\n",
       "   </p>,\n",
       " <p class=\"UIWalkthrough-message\">\n",
       "     See the latest conversations about any topic instantly.\n",
       "   </p>,\n",
       " <p class=\"UIWalkthrough-message\">\n",
       "     Catch up instantly on the best stories happening as they unfold.\n",
       "   </p>]"
      ]
     },
     "execution_count": 23,
     "metadata": {},
     "output_type": "execute_result"
    }
   ],
   "source": [
    "soup.find_all('p')"
   ]
  },
  {
   "cell_type": "code",
   "execution_count": 24,
   "metadata": {},
   "outputs": [
    {
     "name": "stdout",
     "output_type": "stream",
     "text": [
      "[\"@penguins Sidney Crosby (864 GP) is 52 games away from surpassing Mario Lemieux's record of 915 games played with the franchise. Evgeni Malkin (784 GP) should also pass Jaromir Jagr's total (806 GP) and move into 3rd place. \\n\\n1) Crosby\\n2) Lemieux\\n3) Malkin\\n4) Jagr\\n\\n#LetsGoPens\", 'SURPRISE! Sidney Crosby personally delivered @penguins tickets to these lucky fans, and even played a little hockey in the driveway. #LetsGoPens pic.twitter.com/Qqurq1IMU6', 'Pierre McGuire talking about Crosby all #Pens #LetsGoPens #ALLCAPSpic.twitter.com/9WuRbe700E', 'Sidney Crosby Living up to Expectations!!!! #LetsGoPens pic.twitter.com/qNwzyO0cm9', 'TOPIC TONIGHT: Has Sidney Crosby closed the gap between him and @Penguins legend Mario Lemieux? #LetsGoPens #Penguins #FinalWord', 'Heads up for my @Penguins crowd. You may wanna find yourself in a Hallmark store on October, 6th. The Sidney Crosby @StanleyCup ornament will be in-store and on shelves. Merry Christmas! #LetsGoPens pic.twitter.com/JospP5EU4b', '#Penguins biggest asset this season is the massive depth at center (even more than usual) Crosby, Malkin, Sheahan, Brassard, Guentzel (if needed), Cullen, Grant. Ability of 7,19,59,15 to play wing will also be major keys #LetsGoPens', 'Go time for the 3rd period!\\n\\nThe Penguins lead 4-1 with 20 minutes left. Crosby and Letang each have two points, thus far.\\n\\n#LetsGoPens pic.twitter.com/eWfBbT8CnO', \"I'm still weirdly proud that someone who played for Cornell in my little hometown of Ithaca is now playing with Sidney freakin' Crosby #LetsGoPens\", 'The seem-less chemistry between Crosby and Guentzel already looks to be in midsession form #LetsGoPens #Penguins', 'So glad and thankful to see another Sidney Crosby season.... #LetsGoPens', 'Sidney Crosby goes above and beyond for @Penguins teammates https://www.nhl.com/penguins/news/welcome-to-the-team/c-300270478?tcid=tw_news_content_id\\xa0… So proud he plays for us. #LetsGoPens!', 'And people wonder why Pittsburgh is a hockey town now. A star like Crosby being the class of the league, while us  #Steelers fans watch Bell cry and a hand full of others be all about themselves. #LetsgoPens https://twitter.com/penguins/status/1042900574755332097\\xa0…', 'Cracks me up that fans from other @NHL cities claim they hate Crosby, but they would die to have him play for their team. Here’s to us, #Pittsburgh! #LetsGoPens #WeWantTheCup...#Again ', '#MarioMosaic  Meet my grand-doggie, Sidney Crosby, (really!) -- a Norwegian Elkhound, who loves the Pens, snow and ice!  #letsgopens @apghspanopic.twitter.com/fjGpwJl1MQ', 'Wishing #PENS Captain, 3X Stanley Cup Champion, Sidney Patrick Crosby a very Happy 31st BDay!\\n#LetsGoPens pic.twitter.com/qUaIydt3SB', 'ON THIS DATE IN 2005:  Your #Pittsburgh @penguins selected Sidney Crosby with the No. 1 pick in the NHL Draft.  #LetsGoPens \\n\\n(Photo Credit: @PR_NHL) pic.twitter.com/e8jqTpbZxR', 'WHAT A SETUP AND WHAT A GOAL!!! SIDNEY CROSBY MAKES IT 3-2 #LetsGoPens #StanleyCup #3elievepic.twitter.com/MbDTFU3QyC', \"It's power-play time for the Penguins. Oshie to the box for interfering with Crosby. 14:22 left in the game. Now is the time to strike. #LetsGoPens\", 'GOAAAALL!!!   Sidney Crosby!!!!! \\nO CAPTAIN MY CAPTAIN \\n#LetsGoPens #Pens pic.twitter.com/8KiUqr224w']\n"
     ]
    }
   ],
   "source": [
    "crosby = [p.text for p in soup.findAll('p', class_='tweet-text')]\n",
    "\n",
    "print(crosby)"
   ]
  },
  {
   "cell_type": "code",
   "execution_count": null,
   "metadata": {},
   "outputs": [],
   "source": []
  }
 ],
 "metadata": {
  "kernelspec": {
   "display_name": "Python 3",
   "language": "python",
   "name": "python3"
  },
  "language_info": {
   "codemirror_mode": {
    "name": "ipython",
    "version": 3
   },
   "file_extension": ".py",
   "mimetype": "text/x-python",
   "name": "python",
   "nbconvert_exporter": "python",
   "pygments_lexer": "ipython3",
   "version": "3.6.5"
  }
 },
 "nbformat": 4,
 "nbformat_minor": 2
}
