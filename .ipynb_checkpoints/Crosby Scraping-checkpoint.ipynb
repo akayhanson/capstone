{
 "cells": [
  {
   "cell_type": "markdown",
   "metadata": {},
   "source": [
    "# Twitter Data Scraping without API Access\n",
    "Credit for process: Randy Daw-Ran Liou, Medium Post\n",
    "\n",
    "https://medium.com/@dawran6/twitter-scraper-tutorial-with-python-requests-beautifulsoup-and-selenium-part-1-8e76d62ffd68"
   ]
  },
  {
   "cell_type": "code",
   "execution_count": 1,
   "metadata": {},
   "outputs": [],
   "source": [
    "import requests\n",
    "from bs4 import BeautifulSoup"
   ]
  },
  {
   "cell_type": "code",
   "execution_count": 4,
   "metadata": {},
   "outputs": [
    {
     "name": "stdout",
     "output_type": "stream",
     "text": [
      "[]\n"
     ]
    }
   ],
   "source": [
    "# scraping tweets based on Advanced Search of\n",
    "\n",
    "url = u'https://twitter.com/search?l=&q='\n",
    "query = u'Crosby%20sid%2C%20OR%20sidney%2C%20OR%20pens%2C%20OR%20penguins%2C%20OR%20pittsburgh%2C%20OR%20hockey%2C%20OR%20nhl%20%23letsgopens&src=typd'\n",
    "r = requests.get(url+query)\n",
    "soup = BeautifulSoup(r.text, 'html.parser')\n",
    "\n",
    "crosby = [p.text for p in soup.findAll('p', class_='tweet-text')]\n",
    "\n",
    "print(crosby)"
   ]
  },
  {
   "cell_type": "raw",
   "metadata": {},
   "source": []
  }
 ],
 "metadata": {
  "kernelspec": {
   "display_name": "Python 3",
   "language": "python",
   "name": "python3"
  },
  "language_info": {
   "codemirror_mode": {
    "name": "ipython",
    "version": 3
   },
   "file_extension": ".py",
   "mimetype": "text/x-python",
   "name": "python",
   "nbconvert_exporter": "python",
   "pygments_lexer": "ipython3",
   "version": "3.6.5"
  }
 },
 "nbformat": 4,
 "nbformat_minor": 2
}
